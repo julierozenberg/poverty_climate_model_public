{
 "cells": [
  {
   "cell_type": "code",
   "execution_count": 1,
   "metadata": {
    "collapsed": false
   },
   "outputs": [],
   "source": [
    "%load_ext autoreload\n",
    "%autoreload 2"
   ]
  },
  {
   "cell_type": "code",
   "execution_count": 2,
   "metadata": {
    "collapsed": false
   },
   "outputs": [],
   "source": [
    "import pandas as pd\n",
    "import matplotlib.pyplot as plt\n",
    "%matplotlib inline\n",
    "import os\n",
    "from lib_for_growth_model import *\n",
    "from decimal import Decimal\n",
    "import numpy as np\n",
    "from scipy.stats import gaussian_kde\n",
    "from pandas_helper import *"
   ]
  },
  {
   "cell_type": "code",
   "execution_count": 3,
   "metadata": {
    "collapsed": true
   },
   "outputs": [],
   "source": [
    "from pandas.io import wb"
   ]
  },
  {
   "cell_type": "code",
   "execution_count": 4,
   "metadata": {
    "collapsed": false
   },
   "outputs": [],
   "source": [
    "codes = read_csv('wbccodes2014.csv')"
   ]
  },
  {
   "cell_type": "code",
   "execution_count": 5,
   "metadata": {
    "collapsed": true
   },
   "outputs": [],
   "source": [
    "ini_data = pd.read_csv(\"ini_data_info_may14.csv\")"
   ]
  },
  {
   "cell_type": "code",
   "execution_count": 6,
   "metadata": {
    "collapsed": false
   },
   "outputs": [
    {
     "data": {
      "text/plain": [
       "Index(['countrycode', 'wbreg', 'shareemp', 'shareag', 'sharemanu', 'poorag',\n",
       "       'poorindus', 'poorserv', 'pooremp', 'poorold', 'poorunemp',\n",
       "       'poorchildren', 'below125', 'pooradult', 'skillpag', 'skillpserv',\n",
       "       'skillpmanu', 'gdp', 'gdppc', 'quintile2', 'quintilepc2', 'below4',\n",
       "       'below6', 'below8', 'below10', 'gini', 'tot_pop', 'gap', 'incbott20',\n",
       "       'inc2040', 'incbott40', 'avincome', 'shbottom20ag', 'cat7workers',\n",
       "       'old', 'nonaginc', 'aginc'],\n",
       "      dtype='object')"
      ]
     },
     "execution_count": 6,
     "metadata": {},
     "output_type": "execute_result"
    }
   ],
   "source": [
    "ini_data.columns"
   ]
  },
  {
   "cell_type": "code",
   "execution_count": 7,
   "metadata": {
    "collapsed": true
   },
   "outputs": [],
   "source": [
    "def correct_countrycode(countrycode):\n",
    "    '''\n",
    "    Corrects countrycodes in the database that don't correspond to official 3 letters codes.\n",
    "    '''\n",
    "    if countrycode=='TMP':\n",
    "        countrycode='TLS'\n",
    "    if countrycode=='ZAR':\n",
    "        countrycode='COD'\n",
    "    if countrycode=='ROM':\n",
    "        countrycode='ROU'\n",
    "    return countrycode"
   ]
  },
  {
   "cell_type": "code",
   "execution_count": 8,
   "metadata": {
    "collapsed": false
   },
   "outputs": [],
   "source": [
    "codes['country'] = codes.country.apply(correct_countrycode)"
   ]
  },
  {
   "cell_type": "code",
   "execution_count": 9,
   "metadata": {
    "collapsed": true
   },
   "outputs": [],
   "source": [
    "nameofthisround = 'sept2016_separate_impacts'"
   ]
  },
  {
   "cell_type": "code",
   "execution_count": 10,
   "metadata": {
    "collapsed": false
   },
   "outputs": [],
   "source": [
    "model = os.getcwd()\n",
    "bau_folder   = \"{}/baselines_{}/\".format(model,nameofthisround)\n",
    "cc_folder    = \"{}/with_cc_{}/\".format(model,nameofthisround)"
   ]
  },
  {
   "cell_type": "code",
   "execution_count": 11,
   "metadata": {
    "collapsed": false
   },
   "outputs": [
    {
     "name": "stdout",
     "output_type": "stream",
     "text": [
      "outputs_spark_cc_0_100.csv\n",
      "outputs_spark_cc_100_200.csv\n",
      "outputs_spark_cc_200_300.csv\n"
     ]
    },
    {
     "name": "stderr",
     "output_type": "stream",
     "text": [
      "C:\\Miniconda3\\lib\\site-packages\\pandas\\io\\parsers.py:1170: DtypeWarning: Columns (6,7,8,9,10) have mixed types. Specify dtype option on import or set low_memory=False.\n",
      "  data = self._reader.read(nrows)\n"
     ]
    }
   ],
   "source": [
    "list_bau = os.listdir(bau_folder)\n",
    "list_cc  = os.listdir(cc_folder)\n",
    "\n",
    "bau = pd.DataFrame()\n",
    "cc  = pd.DataFrame()\n",
    "\n",
    "for file in list_bau:\n",
    "    bau = bau.append(pd.read_csv(bau_folder+file).drop('Unnamed: 0',axis=1))\n",
    "    \n",
    "for file in list_cc:\n",
    "    temp = pd.read_csv(cc_folder+file).drop('Unnamed: 0',axis=1)\n",
    "    if \"disasters\" not in file:\n",
    "        print(file)\n",
    "        temp = temp.ix[temp.switch_disasters==0,:]\n",
    "    cc = cc.append(temp)"
   ]
  },
  {
   "cell_type": "code",
   "execution_count": 12,
   "metadata": {
    "collapsed": false
   },
   "outputs": [],
   "source": [
    "bau = bau.drop_duplicates(['country', 'scenar', 'ssp'])"
   ]
  },
  {
   "cell_type": "code",
   "execution_count": 13,
   "metadata": {
    "collapsed": true
   },
   "outputs": [],
   "source": [
    "cc = cc.dropna()\n",
    "bau = bau.dropna()"
   ]
  },
  {
   "cell_type": "code",
   "execution_count": 14,
   "metadata": {
    "collapsed": true
   },
   "outputs": [],
   "source": [
    "for col_switch in ['switch_ag_rev','switch_temp', 'switch_ag_prices', 'switch_disasters', 'switch_health']:\n",
    "    cc.ix[cc[col_switch],\"switch\"] = col_switch"
   ]
  },
  {
   "cell_type": "code",
   "execution_count": 15,
   "metadata": {
    "collapsed": true
   },
   "outputs": [],
   "source": [
    "cc['issp5'] = cc.ssp=='ssp5'\n",
    "bau['issp5'] = bau.ssp=='ssp5'"
   ]
  },
  {
   "cell_type": "code",
   "execution_count": 16,
   "metadata": {
    "collapsed": false
   },
   "outputs": [],
   "source": [
    "bau['countryname'] = bau.country.replace(codes.set_index('country').country_name)"
   ]
  },
  {
   "cell_type": "code",
   "execution_count": 17,
   "metadata": {
    "collapsed": false
   },
   "outputs": [],
   "source": [
    "cc['countryname'] = cc.country.replace(codes.set_index('country').country_name)"
   ]
  },
  {
   "cell_type": "code",
   "execution_count": 18,
   "metadata": {
    "collapsed": true
   },
   "outputs": [],
   "source": [
    "ini_data['countryname'] = ini_data.countrycode.replace(codes.set_index('country').country_name)"
   ]
  },
  {
   "cell_type": "code",
   "execution_count": 19,
   "metadata": {
    "collapsed": false
   },
   "outputs": [],
   "source": [
    "gni = wb.download(indicator='NY.GNP.PCAP.PP.CD',start=2015,end=2015,country='all').reset_index().rename(columns={'NY.GNP.PCAP.PP.CD':'gni'})"
   ]
  },
  {
   "cell_type": "code",
   "execution_count": 20,
   "metadata": {
    "collapsed": false,
    "scrolled": true
   },
   "outputs": [],
   "source": [
    "cc['inigdppc'] = cc.countryname.replace(gni.set_index('country').gni)"
   ]
  },
  {
   "cell_type": "code",
   "execution_count": 21,
   "metadata": {
    "collapsed": true
   },
   "outputs": [],
   "source": [
    "cc['inigdp_survey'] = cc.countryname.replace(ini_data.set_index('countryname').gdp)\n",
    "cc['inigdppc_survey'] = cc.countryname.replace(ini_data.set_index('countryname').gdppc)"
   ]
  },
  {
   "cell_type": "code",
   "execution_count": 22,
   "metadata": {
    "collapsed": true
   },
   "outputs": [],
   "source": [
    "cc['ini_poor'] = cc.countryname.replace(ini_data.set_index('countryname').below125)\n",
    "cc['ini_pop']  = cc.countryname.replace(ini_data.set_index('countryname').tot_pop)"
   ]
  },
  {
   "cell_type": "code",
   "execution_count": 23,
   "metadata": {
    "collapsed": false
   },
   "outputs": [],
   "source": [
    "hop = cc.set_index(['countryname', 'scenar', 'ssp','ccint','switch'])\n",
    "hip = broadcast_simple(bau.set_index(['countryname', 'scenar', 'ssp']),\\\n",
    "                       hop.index)"
   ]
  },
  {
   "cell_type": "code",
   "execution_count": 24,
   "metadata": {
    "collapsed": false
   },
   "outputs": [],
   "source": [
    "diff_poor_ag = (hop['below125']-hip['below125']).sum(level=['ccint','ssp','scenar','switch'])"
   ]
  },
  {
   "cell_type": "code",
   "execution_count": 25,
   "metadata": {
    "collapsed": false
   },
   "outputs": [],
   "source": [
    "diff_poor = (hop['below125']-hip['below125'])\n",
    "diff_poor_pc = (hop['below125']-hip['below125'])/hop['tot_pop']\n",
    "diff_poor_pb = (hop['below125']-hip['below125'])/hip['below125']"
   ]
  },
  {
   "cell_type": "code",
   "execution_count": 26,
   "metadata": {
    "collapsed": false
   },
   "outputs": [],
   "source": [
    "hop['inc20diffpc'] = (hop.incbott20-hip.incbott20)/hip.incbott20\n",
    "hop['ginidiff'] = (hop.gini-hip.gini)\n",
    "hop['diff_poor'] = diff_poor\n",
    "hop['diff_poor_pc'] = diff_poor_pc"
   ]
  },
  {
   "cell_type": "code",
   "execution_count": 27,
   "metadata": {
    "collapsed": false
   },
   "outputs": [
    {
     "data": {
      "text/plain": [
       "count      552000.000000\n",
       "mean       140301.251413\n",
       "std        941178.224553\n",
       "min      -9293217.537954\n",
       "25%             0.000000\n",
       "50%           765.043596\n",
       "75%         26129.532364\n",
       "max      49693549.555117\n",
       "Name: diff_poor, dtype: float64"
      ]
     },
     "execution_count": 27,
     "metadata": {},
     "output_type": "execute_result"
    }
   ],
   "source": [
    "hop.diff_poor.describe()"
   ]
  },
  {
   "cell_type": "code",
   "execution_count": 28,
   "metadata": {
    "collapsed": true
   },
   "outputs": [],
   "source": [
    "hop['incbott40diff'] = (hop.incbott40-hip.incbott40)/hip.incbott40\n",
    "hop['avincomediff'] = (hop.avincome-hip.avincome)/hip.avincome"
   ]
  },
  {
   "cell_type": "code",
   "execution_count": 29,
   "metadata": {
    "collapsed": false
   },
   "outputs": [],
   "source": [
    "hop['GDPpcdiff'] = (hop.GDP/hop.tot_pop-hip.GDP/hip.tot_pop)/(hip.GDP/hip.tot_pop)\n",
    "hop['GDPdiff'] = (hop.GDP-hip.GDP)"
   ]
  },
  {
   "cell_type": "code",
   "execution_count": 30,
   "metadata": {
    "collapsed": false
   },
   "outputs": [],
   "source": [
    "hop['GDPbau'] = hip.GDP\n",
    "hop['poorbau'] = hip.below125\n",
    "hop['poorbaupc'] = hip.below125/hip.tot_pop\n",
    "hop['GDPpcbau'] = hip.GDP/hip.tot_pop"
   ]
  },
  {
   "cell_type": "code",
   "execution_count": 31,
   "metadata": {
    "collapsed": false
   },
   "outputs": [],
   "source": [
    "hop['growthpc_bau'] = (hop.GDPpcbau/hop.inigdppc_survey)**(1/(2030-2007))-1\n",
    "hop['growthpc_cc'] = (hop.GDP/hop.tot_pop/hop.inigdppc_survey)**(1/(2030-2007))-1"
   ]
  },
  {
   "cell_type": "code",
   "execution_count": 32,
   "metadata": {
    "collapsed": false
   },
   "outputs": [],
   "source": [
    "hop['pov_reduc_bau'] = hop.ini_poor/hop.ini_pop-hop.below125/hop.tot_pop"
   ]
  },
  {
   "cell_type": "code",
   "execution_count": 34,
   "metadata": {
    "collapsed": true
   },
   "outputs": [],
   "source": [
    "hop['diff_below10'] = (hop['below10']-hip['below10'])"
   ]
  },
  {
   "cell_type": "code",
   "execution_count": 35,
   "metadata": {
    "collapsed": false
   },
   "outputs": [
    {
     "data": {
      "text/plain": [
       "Index(['country', 'year', 'switch_ag_rev', 'switch_temp', 'switch_ag_prices',\n",
       "       'switch_disasters', 'switch_health', 'GDP', 'avincome', 'incbott10',\n",
       "       'incbott20', 'inc2040', 'incbott40', 'quintilecum1', 'quintilecum2',\n",
       "       'quintilepc1', 'quintilepc2', 'below125', 'below2', 'below4', 'below6',\n",
       "       'below8', 'below10', 'gini', 'tot_pop', 'gap125', 'gap2', 'gap4',\n",
       "       'gap6', 'gap8', 'gap10', 'childrenag', 'childrenonag', 'peopleag',\n",
       "       'peoplenonag', 'avincomeag', 'avincomenonag', 'shareag', 'sharemanu',\n",
       "       'shareemp', 'grserv', 'grag', 'grmanu', 'skillpserv', 'skillpag',\n",
       "       'skillpmanu', 'p', 'b', 'voice', 'fprice_increase', 'farmer_rev_change',\n",
       "       'transmission', 'food_cursor', 'temp_impact', 'paramshstunt',\n",
       "       'malaria_cursor', 'diarrhea_cursor', 'disasters_cursor',\n",
       "       'malaria_share', 'diarrhea_share', 'flood_share_poor',\n",
       "       'flood_share_nonpoor', 'drought_share', 'wind_share', 'surge_share',\n",
       "       'prod_gr_ag', 'prod_gr_serv', 'prod_gr_manu', 'issp5', 'inigdppc',\n",
       "       'inigdp_survey', 'inigdppc_survey', 'ini_poor', 'ini_pop',\n",
       "       'inc20diffpc', 'ginidiff', 'diff_poor', 'diff_poor_pc', 'incbott40diff',\n",
       "       'avincomediff', 'GDPpcdiff', 'GDPdiff', 'GDPbau', 'poorbau',\n",
       "       'poorbaupc', 'GDPpcbau', 'growthpc_bau', 'growthpc_cc', 'pov_reduc_bau',\n",
       "       'diff_below10'],\n",
       "      dtype='object')"
      ]
     },
     "execution_count": 35,
     "metadata": {},
     "output_type": "execute_result"
    }
   ],
   "source": [
    "hop.columns"
   ]
  },
  {
   "cell_type": "code",
   "execution_count": 36,
   "metadata": {
    "collapsed": true
   },
   "outputs": [],
   "source": [
    "hop[['country', 'year', 'switch_ag_rev', 'switch_temp', 'switch_ag_prices',\\\n",
    "       'switch_disasters', 'switch_health', 'shareag', 'sharemanu',\\\n",
    "       'shareemp', 'grserv', 'grag', 'grmanu', 'skillpserv', 'skillpag',\\\n",
    "       'skillpmanu', 'p', 'b', 'voice', 'fprice_increase', 'farmer_rev_change',\\\n",
    "       'transmission', 'food_cursor', 'temp_impact', 'paramshstunt',\\\n",
    "       'malaria_cursor', 'diarrhea_cursor', 'disasters_cursor',\\\n",
    "       'malaria_share', 'diarrhea_share', 'flood_share_poor',\\\n",
    "       'flood_share_nonpoor', 'drought_share', 'wind_share', 'surge_share',\\\n",
    "       'prod_gr_ag', 'prod_gr_serv', 'prod_gr_manu', 'issp5', 'inc20diffpc', 'ginidiff', 'diff_poor', 'diff_poor_pc', 'incbott40diff',\n",
    "       'diff_below10']].to_csv(\"all_results_separate_impacts.csv\")"
   ]
  },
  {
   "cell_type": "code",
   "execution_count": 4,
   "metadata": {
    "collapsed": true
   },
   "outputs": [],
   "source": [
    "from scipy.interpolate import interp1d"
   ]
  },
  {
   "cell_type": "code",
   "execution_count": 5,
   "metadata": {
    "collapsed": false
   },
   "outputs": [],
   "source": [
    "def sample_output(var,countryname,ccint,switch,rand):\n",
    "    \n",
    "    Z = hop[var].unstack(\"ccint\").unstack(\"switch\").unstack(\"countryname\")[ccint][switch][countryname].values\n",
    "\n",
    "    H,X1 = np.histogram( Z, bins = 500, normed = True )\n",
    "    dx = X1[1] - X1[0]\n",
    "    F1 = np.cumsum(H)*dx\n",
    "    \n",
    "    out = interp1d(F1,X1[1:], fill_value=F1[-1], bounds_error=False)(rand)\n",
    "    return out"
   ]
  },
  {
   "cell_type": "code",
   "execution_count": 228,
   "metadata": {
    "collapsed": false
   },
   "outputs": [],
   "source": [
    "list_countries = hop.index.get_level_values('countryname').unique()"
   ]
  },
  {
   "cell_type": "code",
   "execution_count": 229,
   "metadata": {
    "collapsed": false
   },
   "outputs": [],
   "source": [
    "rand=np.random.rand(1*10**(4),len(list_countries))"
   ]
  },
  {
   "cell_type": "code",
   "execution_count": 230,
   "metadata": {
    "collapsed": true
   },
   "outputs": [],
   "source": [
    "def build_global_df(var,ccint,switch):\n",
    "    output_0 = pd.DataFrame(columns=list_countries)\n",
    "    for (i,countryname) in enumerate(list_countries):\n",
    "        output_0[countryname] = sample_output(var,countryname,ccint,switch,rand[:,i])\n",
    "    output = pd.DataFrame(output_0.sum(axis=1),columns=[var])\n",
    "    output.index.name=\"scenar\"\n",
    "    output['ccint'] = ccint\n",
    "    output['switch'] = switch\n",
    "    return output"
   ]
  },
  {
   "cell_type": "code",
   "execution_count": 231,
   "metadata": {
    "collapsed": false
   },
   "outputs": [],
   "source": [
    "a = pd.DataFrame()\n",
    "for ccint in [0,1]:\n",
    "    for switch in ['switch_ag_rev','switch_temp', 'switch_ag_prices', 'switch_disasters', 'switch_health']:\n",
    "        a = pd.concat([a,build_global_df('GDPdiff',ccint,switch)],axis=0)"
   ]
  },
  {
   "cell_type": "code",
   "execution_count": 232,
   "metadata": {
    "collapsed": false
   },
   "outputs": [],
   "source": [
    "b = pd.DataFrame()\n",
    "for ccint in [0,1]:\n",
    "    for switch in ['switch_ag_rev','switch_temp', 'switch_ag_prices', 'switch_disasters', 'switch_health']:\n",
    "        b = pd.concat([b,build_global_df('diff_poor',ccint,switch)],axis=0)"
   ]
  },
  {
   "cell_type": "code",
   "execution_count": 233,
   "metadata": {
    "collapsed": false
   },
   "outputs": [],
   "source": [
    "world = pd.concat([a.reset_index().set_index([\"scenar\",\"switch\",\"ccint\"]),b.reset_index().set_index([\"scenar\",\"switch\",\"ccint\"])],axis=1)"
   ]
  },
  {
   "cell_type": "code",
   "execution_count": 234,
   "metadata": {
    "collapsed": false
   },
   "outputs": [
    {
     "data": {
      "text/html": [
       "<div>\n",
       "<table border=\"1\" class=\"dataframe\">\n",
       "  <thead>\n",
       "    <tr style=\"text-align: right;\">\n",
       "      <th></th>\n",
       "      <th></th>\n",
       "      <th></th>\n",
       "      <th>GDPdiff</th>\n",
       "      <th>diff_poor</th>\n",
       "    </tr>\n",
       "    <tr>\n",
       "      <th>scenar</th>\n",
       "      <th>switch</th>\n",
       "      <th>ccint</th>\n",
       "      <th></th>\n",
       "      <th></th>\n",
       "    </tr>\n",
       "  </thead>\n",
       "  <tbody>\n",
       "    <tr>\n",
       "      <th>9990</th>\n",
       "      <th>switch_health</th>\n",
       "      <th>1</th>\n",
       "      <td>-2.000712e+10</td>\n",
       "      <td>33996953.668139</td>\n",
       "    </tr>\n",
       "    <tr>\n",
       "      <th>9991</th>\n",
       "      <th>switch_health</th>\n",
       "      <th>1</th>\n",
       "      <td>-2.192225e+10</td>\n",
       "      <td>31425767.799913</td>\n",
       "    </tr>\n",
       "    <tr>\n",
       "      <th>9992</th>\n",
       "      <th>switch_health</th>\n",
       "      <th>1</th>\n",
       "      <td>-2.796952e+10</td>\n",
       "      <td>34684351.663752</td>\n",
       "    </tr>\n",
       "    <tr>\n",
       "      <th>9993</th>\n",
       "      <th>switch_health</th>\n",
       "      <th>1</th>\n",
       "      <td>-2.576566e+10</td>\n",
       "      <td>33004513.893345</td>\n",
       "    </tr>\n",
       "    <tr>\n",
       "      <th>9994</th>\n",
       "      <th>switch_health</th>\n",
       "      <th>1</th>\n",
       "      <td>-2.680103e+10</td>\n",
       "      <td>27859473.654297</td>\n",
       "    </tr>\n",
       "    <tr>\n",
       "      <th>9995</th>\n",
       "      <th>switch_health</th>\n",
       "      <th>1</th>\n",
       "      <td>-3.542346e+10</td>\n",
       "      <td>24058820.722997</td>\n",
       "    </tr>\n",
       "    <tr>\n",
       "      <th>9996</th>\n",
       "      <th>switch_health</th>\n",
       "      <th>1</th>\n",
       "      <td>-3.110348e+10</td>\n",
       "      <td>32684049.958394</td>\n",
       "    </tr>\n",
       "    <tr>\n",
       "      <th>9997</th>\n",
       "      <th>switch_health</th>\n",
       "      <th>1</th>\n",
       "      <td>-1.961155e+10</td>\n",
       "      <td>31577851.996707</td>\n",
       "    </tr>\n",
       "    <tr>\n",
       "      <th>9998</th>\n",
       "      <th>switch_health</th>\n",
       "      <th>1</th>\n",
       "      <td>-2.517932e+10</td>\n",
       "      <td>28174223.534819</td>\n",
       "    </tr>\n",
       "    <tr>\n",
       "      <th>9999</th>\n",
       "      <th>switch_health</th>\n",
       "      <th>1</th>\n",
       "      <td>-1.924988e+10</td>\n",
       "      <td>39867606.020999</td>\n",
       "    </tr>\n",
       "  </tbody>\n",
       "</table>\n",
       "</div>"
      ],
      "text/plain": [
       "                                 GDPdiff        diff_poor\n",
       "scenar switch        ccint                               \n",
       "9990   switch_health 1     -2.000712e+10  33996953.668139\n",
       "9991   switch_health 1     -2.192225e+10  31425767.799913\n",
       "9992   switch_health 1     -2.796952e+10  34684351.663752\n",
       "9993   switch_health 1     -2.576566e+10  33004513.893345\n",
       "9994   switch_health 1     -2.680103e+10  27859473.654297\n",
       "9995   switch_health 1     -3.542346e+10  24058820.722997\n",
       "9996   switch_health 1     -3.110348e+10  32684049.958394\n",
       "9997   switch_health 1     -1.961155e+10  31577851.996707\n",
       "9998   switch_health 1     -2.517932e+10  28174223.534819\n",
       "9999   switch_health 1     -1.924988e+10  39867606.020999"
      ]
     },
     "execution_count": 234,
     "metadata": {},
     "output_type": "execute_result"
    }
   ],
   "source": [
    "world.tail(10)"
   ]
  },
  {
   "cell_type": "code",
   "execution_count": 235,
   "metadata": {
    "collapsed": false
   },
   "outputs": [],
   "source": [
    "world.to_csv(\"world_distributions.csv\")"
   ]
  },
  {
   "cell_type": "code",
   "execution_count": 6,
   "metadata": {
    "collapsed": false
   },
   "outputs": [],
   "source": [
    "world = pd.read_csv(\"world_distributions.csv\").set_index([\"scenar\",\"switch\",\"ccint\"])"
   ]
  },
  {
   "cell_type": "code",
   "execution_count": 7,
   "metadata": {
    "collapsed": false
   },
   "outputs": [
    {
     "name": "stderr",
     "output_type": "stream",
     "text": [
      ":0: FutureWarning: IPython widgets are experimental and may change in the future.\n"
     ]
    }
   ],
   "source": [
    "from lib_for_plot import *\n",
    "import seaborn as sns\n",
    "\n",
    "sns.set_context(\"poster\",rc={\"font.size\": 18})\n",
    "sns.set_style(\"whitegrid\")"
   ]
  },
  {
   "cell_type": "code",
   "execution_count": 8,
   "metadata": {
    "collapsed": true
   },
   "outputs": [],
   "source": [
    "import matplotlib.gridspec as gridspec"
   ]
  },
  {
   "cell_type": "code",
   "execution_count": 9,
   "metadata": {
    "collapsed": false
   },
   "outputs": [
    {
     "data": {
      "image/png": "[encoded data removed]",
      "text/plain": [
       "<matplotlib.figure.Figure at 0xa7f8438>"
      ]
     },
     "metadata": {},
     "output_type": "display_data"
    }
   ],
   "source": [
    "font = {'family' : 'sans serif',\n",
    "    'size'   : 16}\n",
    "plt.rc('font', **font)\n",
    "\n",
    "titles = [\"Agriculture\\n revenues\",\"Labor\\nproductivity\",\"Food prices\",\"Disasters\",\"Health\"]\n",
    "\n",
    "fig = plt.figure(figsize=(12,5))\n",
    "gs1 = gridspec.GridSpec(1, 5)\n",
    "gs1.update(wspace=0.025, hspace=0.05)\n",
    "i=0\n",
    "\n",
    "for switch in ['switch_ag_rev','switch_temp', 'switch_ag_prices', 'switch_disasters', 'switch_health']:\n",
    "    ax = fig.add_subplot(gs1[i])\n",
    "    ax.get_xaxis().set_ticks([])\n",
    "    ax.set_ylim([-10,120])\n",
    "    spine_and_ticks(ax)\n",
    "    #ax.set_aspect('equal')\n",
    "\n",
    "    to_plot = pd.DataFrame(world.diff_poor.unstack(\"switch\")[switch].reset_index().replace(dict({0:'Low',1:'High'})))\n",
    "    to_plot[switch] = 10**(-6)*to_plot[switch]\n",
    "\n",
    "    to_plot['prout']=\"\"\n",
    "\n",
    "    sns.violinplot(x='prout',y=switch,data=to_plot,hue='ccint',split=True,ax=ax,palette=\"Set2\",legend=False)\n",
    "    plt.xlabel(titles[i])\n",
    "    if i==0:\n",
    "        ax.legend(title=\"Climate change\\nimpacts\",prop=font,bbox_to_anchor=(1.12, 1.02))\n",
    "    else:\n",
    "        ax.legend_.remove()\n",
    "    sns.despine(bottom=True)\n",
    "    if i==0:\n",
    "        plt.ylabel(\"People living in extreme poverty\\ndue to climate change (million, 2030)\")\n",
    "    else:\n",
    "        plt.ylabel(\"\")\n",
    "        ax.set_yticklabels([])\n",
    "        #ax.get_yaxis().set_visible(False)\n",
    "    \n",
    "    #plt.xlabel(\" \".join(switch.split('_')[1::]))\n",
    "    i+=1\n",
    "plt.savefig(\"graphs_separate_impacts/global_poor_all_switches_new.png\",bbox_inches=\"tight\",dpi=300)\n",
    "plt.savefig(\"graphs_separate_impacts/global_poor_all_switches_new.pdf\",bbox_inches=\"tight\",dpi=300)"
   ]
  },
  {
   "cell_type": "code",
   "execution_count": 46,
   "metadata": {
    "collapsed": false
   },
   "outputs": [],
   "source": [
    "hop.ix[hop.avincomediff<hop.incbott40diff,:].reset_index().countryname.value_counts();"
   ]
  },
  {
   "cell_type": "code",
   "execution_count": null,
   "metadata": {
    "collapsed": true
   },
   "outputs": [],
   "source": []
  }
 ],
 "metadata": {
  "kernelspec": {
   "display_name": "Python [default]",
   "language": "python",
   "name": "python3"
  },
  "language_info": {
   "codemirror_mode": {
    "name": "ipython",
    "version": 3
   },
   "file_extension": ".py",
   "mimetype": "text/x-python",
   "name": "python",
   "nbconvert_exporter": "python",
   "pygments_lexer": "ipython3",
   "version": "3.5.2"
  },
  "toc": {
   "colors": {
    "hover_highlight": "#DAA520",
    "navigate_num": "#000000",
    "navigate_text": "#333333",
    "running_highlight": "#FF0000",
    "selected_highlight": "#FFD700",
    "sidebar_border": "#EEEEEE",
    "wrapper_background": "#FFFFFF"
   },
   "moveMenuLeft": true,
   "nav_menu": {
    "height": "12px",
    "width": "252px"
   },
   "navigate_menu": true,
   "number_sections": true,
   "sideBar": true,
   "threshold": 4,
   "toc_cell": false,
   "toc_section_display": "block",
   "toc_window_display": false,
   "widenNotebook": false
  }
 },
 "nbformat": 4,
 "nbformat_minor": 0
}
